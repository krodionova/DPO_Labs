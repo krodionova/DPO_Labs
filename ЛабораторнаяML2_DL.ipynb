{
  "cells": [
    {
      "cell_type": "markdown",
      "metadata": {
        "id": "FvdxHIWZSZmi"
      },
      "source": [
        "# Doc2Vec (1.5 балла)"
      ]
    },
    {
      "cell_type": "markdown",
      "metadata": {
        "id": "_Brn83iNScYq"
      },
      "source": [
        "**Данные:** корпус русской литературной баллады 1840 гг. (источник: https://dataverse.pushdom.ru/dataset.xhtml?persistentId=doi:10.31860/openlit-2021.9-C003, папка ballads40 на я.диске)\n",
        "\n",
        "**Задание:**\n",
        "\n",
        "\n",
        "1.   Предобработайте тексты так, как это необходимо для нормальной работы Doc2Vec;\n",
        "2.   Обучите модель Doc2Vec на текстах;\n",
        "3.   Выберите пару авторов. При помощи TSNE визуализируйте эмбеддинги их текстов.\n",
        "\n",
        "**Дополнительное задание:** среди авторов есть личности, скрытые за аббревиатурами. Используя векторную близость, попробуйте найти, с текстами каких авторов больше всего схожи анонимные баллады (достаточно выбрать одного анонимного автора). (1 балл)\n",
        "\n"
      ]
    },
    {
      "cell_type": "code",
      "execution_count": null,
      "metadata": {
        "id": "JrV3--LJntbp"
      },
      "outputs": [],
      "source": [
        "#!pip install gensim #перезапустить среду"
      ]
    },
    {
      "cell_type": "code",
      "execution_count": null,
      "metadata": {
        "id": "Z42SOpMhrg_C"
      },
      "outputs": [],
      "source": [
        "import numpy as np"
      ]
    },
    {
      "cell_type": "code",
      "execution_count": null,
      "metadata": {
        "id": "mBE7kJXUutxt"
      },
      "outputs": [],
      "source": [
        "import chardet"
      ]
    },
    {
      "cell_type": "code",
      "execution_count": null,
      "metadata": {
        "colab": {
          "base_uri": "https://localhost:8080/"
        },
        "id": "A3QOb2rLu2Zd",
        "outputId": "40a970d3-b3c1-4559-ad14-323e875552ee"
      },
      "outputs": [
        {
          "name": "stderr",
          "output_type": "stream",
          "text": [
            "[nltk_data] Downloading package punkt_tab to /root/nltk_data...\n",
            "[nltk_data]   Package punkt_tab is already up-to-date!\n",
            "[nltk_data] Downloading package stopwords to /root/nltk_data...\n",
            "[nltk_data]   Package stopwords is already up-to-date!\n"
          ]
        }
      ],
      "source": [
        "from pymystem3 import Mystem\n",
        "mystem = Mystem()\n",
        "\n",
        "import nltk\n",
        "from nltk.tokenize import word_tokenize\n",
        "from nltk import download\n",
        "download('punkt_tab')\n",
        "download('stopwords')\n",
        "from nltk.corpus import stopwords\n",
        "stop_words = stopwords.words('russian')"
      ]
    },
    {
      "cell_type": "code",
      "execution_count": null,
      "metadata": {
        "id": "7meKW_p5swBU"
      },
      "outputs": [],
      "source": [
        "from zipfile import ZipFile\n",
        "\n",
        "path_to_archive = '/content/ballads40.zip'\n",
        "\n",
        "def texts_from_zip(path_to_archive):\n",
        "  texts = []\n",
        "  with ZipFile(path_to_archive) as zip_archive:\n",
        "    for name in zip_archive.namelist():\n",
        "      if '.txt' in name:\n",
        "        text = zip_archive.read(name)\n",
        "        encoding = chardet.detect(text) #оказалось, что у текстов разная кодировка\n",
        "        text = text.decode(encoding['encoding'])\n",
        "        text = mystem.lemmatize(text.lower())\n",
        "        text = [word for word in text if word not in stop_words and word[0].isalpha()] # чистим от стоп-слов и пунктуации\n",
        "        text = ' '.join(text)\n",
        "        texts.append(text)\n",
        "  return texts\n",
        "\n",
        "def get_filenames(path_to_archive):\n",
        "  names = []\n",
        "  with ZipFile(path_to_archive) as zip_archive:\n",
        "    for name in zip_archive.namelist():\n",
        "      if '.txt' in name:\n",
        "        names.append(name.split('/')[1])\n",
        "  return names"
      ]
    },
    {
      "cell_type": "code",
      "execution_count": null,
      "metadata": {
        "id": "rmgKsimBtnn2"
      },
      "outputs": [],
      "source": [
        "names = get_filenames(path_to_archive)\n",
        "texts = texts_from_zip(path_to_archive)"
      ]
    },
    {
      "cell_type": "code",
      "execution_count": null,
      "metadata": {
        "colab": {
          "base_uri": "https://localhost:8080/"
        },
        "id": "Dr2tGeQoyCAq",
        "outputId": "628adf9c-79b5-41c3-f5cf-ba338bfdd250"
      },
      "outputs": [
        {
          "data": {
            "text/plain": [
              "['тенистый прохладный брайнгельский лесок плескаться грета душистый ветерок берег пестреть усеивать цветок ходить девица рыбка стадо конь разыгрываться пред башня замок дальтонский стоять стена замок башня стоять девица душа радость сердце царица тенистый прохладный брайнгельский лесок плескаться грета душистый ветерок туда эдмонд девица сказать трон променивать ах солнце молвить тоска знать твой гость часовой тайна подумать солнце высоко пора девица ехать далеко тенистый прохладный брайнгельский лесок плескаться грета душистый ветерок милый сан надежда чаровать сердце горячий сердце искать ловчий верно любить король охотничий рог твой порука девица рог ловчий солнце встречать полночь ловец полуночный сзывать тенистый прохладный брайнгельский лесок плескаться грета душистый ветерок б милый вера любовь прильнуть сестра твой изголовье рыцарь знать говорить твой шлем красноперый твой бранный наряд девица девица шлем кольчуга скрывать враг добрый друг тенистый прохладный брайнгельский лесок плескаться грета душистый ветерок цвести радость роза весна любовь хотеть стоить жизнь опостыть бесславный смерть ненавистный сужденный умирать постыдный добыча битва прах засыпать земля молитва тенистый прохладный брайнгельский лесок таить плескаться грета душистый ветерок берег пестреть усеивать цветок ходить девица рыбка стадо',\n",
              " 'mac os x attr com apple quarantine q chrome',\n",
              " 'мрамор холодный склоняться глава стоять неподвижно певец молодой мрамор урна урна кинжал запекаться кровь лежать кровь месть кровь мертвец слеза ресница дрожать певец полный капля урна упасть железо блеснуть луна просиять кровь горячий кинжал близ хладный труп лежать',\n",
              " 'mac os x attr com apple quarantine q chrome',\n",
              " 'река мельница шуметь вечер тихий стук колесо заря внимать струя холодный туман седой река подниматься дядя водяной борода густой колено спускать зеленый око уставить дух водяной разглядеть желать шутливый речка подходить близко всплескивать струя холодный пена весь обрызгивать исчезать туман']"
            ]
          },
          "execution_count": 7,
          "metadata": {},
          "output_type": "execute_result"
        }
      ],
      "source": [
        "texts[:5] #какой-то странный прикол, каждый второй элемент списка -- mac os x [...]. видимо, что то произошло при разархивировании"
      ]
    },
    {
      "cell_type": "code",
      "execution_count": null,
      "metadata": {
        "id": "5969tZgcynnp"
      },
      "outputs": [],
      "source": [
        "texts = list(filter(lambda x: x != 'mac os x attr com apple quarantine q chrome', texts))\n",
        "names = list(filter(lambda x: x != 'ballads40', names))\n",
        "#texts[:5] #другое дело :)"
      ]
    },
    {
      "cell_type": "code",
      "execution_count": null,
      "metadata": {
        "id": "QvubAGht_Rmj"
      },
      "outputs": [],
      "source": [
        "names = [name.split('_', 2)[2].split('.')[0] for name in names]"
      ]
    },
    {
      "cell_type": "code",
      "execution_count": null,
      "metadata": {
        "colab": {
          "base_uri": "https://localhost:8080/"
        },
        "id": "gfd9-TCv-8tV",
        "outputId": "00ac2359-cf62-449f-c59c-520e43ddda40"
      },
      "outputs": [
        {
          "name": "stdout",
          "output_type": "stream",
          "text": [
            "189\n",
            "189\n"
          ]
        }
      ],
      "source": [
        "print(len(texts))\n",
        "print(len(names))"
      ]
    },
    {
      "cell_type": "code",
      "execution_count": null,
      "metadata": {
        "id": "1YesEsey0gSx"
      },
      "outputs": [],
      "source": [
        "import gensim"
      ]
    },
    {
      "cell_type": "code",
      "execution_count": null,
      "metadata": {
        "id": "SMdgfZrC3yhi"
      },
      "outputs": [],
      "source": [
        "import re\n",
        "from gensim.models.doc2vec import Doc2Vec, TaggedDocument\n",
        "texts_for_doc2vec = [re.findall(r'\\w+', i) for i in texts]\n",
        "docs_for_doc2vec = [TaggedDocument(doc, [i]) for i, doc in enumerate(texts_for_doc2vec)]"
      ]
    },
    {
      "cell_type": "code",
      "execution_count": null,
      "metadata": {
        "id": "XKSPLj6i6bs9"
      },
      "outputs": [],
      "source": [
        "d2v_model = gensim.models.doc2vec.Doc2Vec(vector_size=100, min_count=2, epochs=5)"
      ]
    },
    {
      "cell_type": "code",
      "execution_count": null,
      "metadata": {
        "id": "tzshaSdq9X0p"
      },
      "outputs": [],
      "source": [
        "d2v_model.build_vocab(docs_for_doc2vec)"
      ]
    },
    {
      "cell_type": "code",
      "execution_count": null,
      "metadata": {
        "colab": {
          "base_uri": "https://localhost:8080/"
        },
        "id": "CooRaYRU9bIB",
        "outputId": "645a1da1-4f5b-4953-cd1c-2d28f1c0f166"
      },
      "outputs": [
        {
          "name": "stdout",
          "output_type": "stream",
          "text": [
            "CPU times: user 5.6 s, sys: 72.5 ms, total: 5.67 s\n",
            "Wall time: 6.02 s\n"
          ]
        }
      ],
      "source": [
        "%%time\n",
        "d2v_model.train(docs_for_doc2vec, total_examples=d2v_model.corpus_count, epochs=50)"
      ]
    },
    {
      "cell_type": "code",
      "execution_count": null,
      "metadata": {
        "id": "X6309flv9qGW"
      },
      "outputs": [],
      "source": [
        "import numpy as np\n",
        "import pandas as pd\n",
        "from sklearn.manifold import TSNE\n",
        "import matplotlib.pyplot as plt\n",
        "from matplotlib.patches import Patch"
      ]
    },
    {
      "cell_type": "code",
      "execution_count": null,
      "metadata": {
        "id": "9fEesCOPAY2h"
      },
      "outputs": [],
      "source": [
        "writers_indices = [i for i, name in enumerate(names) if name == 'Nekrasov' or name == 'Lermontov' or name == 'Fet' or name == 'Sokolova']\n",
        "writers_vectors = [d2v_model.dv[i] for i in writers_indices]\n",
        "writers_names = [names[i] for i in writers_indices]"
      ]
    },
    {
      "cell_type": "code",
      "execution_count": null,
      "metadata": {
        "id": "81X6PIonBab1"
      },
      "outputs": [],
      "source": [
        "tsne = TSNE(n_components=2, random_state=42, perplexity=5)\n",
        "writers_vec_2d = tsne.fit_transform(np.array(writers_vectors))"
      ]
    },
    {
      "cell_type": "code",
      "execution_count": null,
      "metadata": {
        "id": "jbsdPTRCU6CL"
      },
      "outputs": [],
      "source": [
        "colour_map = {'Nekrasov': \"hotpink\", 'Lermontov': \"lightskyblue\", 'Sokolova': 'gold', 'Fet': 'mediumpurple'}\n",
        "colours = [colour_map[name] for name in writers_names]"
      ]
    },
    {
      "cell_type": "code",
      "execution_count": null,
      "metadata": {
        "colab": {
          "base_uri": "https://localhost:8080/",
          "height": 928
        },
        "id": "1rvysCvySscg",
        "outputId": "00b0be9b-63fc-49a1-9022-f80da108d14d"
      },
      "outputs": [
        {
          "name": "stderr",
          "output_type": "stream",
          "text": [
            "<ipython-input-20-21c028c95e03>:4: UserWarning: Mismatched number of handles and labels: len(handles) = 4 len(labels) = 41\n",
            "  plt.legend(handles=[Patch(color=colour, label=author) for author, colour in colour_map.items()],\n"
          ]
        },
        {
          "data": {
            "image/png": "[encoded data removed]",
            "text/plain": [
              "<Figure size 1000x1000 with 1 Axes>"
            ]
          },
          "metadata": {},
          "output_type": "display_data"
        }
      ],
      "source": [
        "fig, ax = plt.subplots(figsize=(10,10))\n",
        "scatter = plt.scatter(writers_vec_2d[:,0], writers_vec_2d[:,1],\n",
        "                      c=colours)\n",
        "plt.legend(handles=[Patch(color=colour, label=author) for author, colour in colour_map.items()],\n",
        "           labels=writers_names,\n",
        "           prop={'size': 18},\n",
        "           loc='center right',\n",
        "           bbox_to_anchor=(1.35, 0.5))\n",
        "plt.title('Эмбеддинги текстов для Некрасова, Тургенева, Фета и Соколовой',\n",
        "          size=18,\n",
        "          loc='left',\n",
        "          pad=30)\n",
        "plt.show()"
      ]
    },
    {
      "cell_type": "markdown",
      "metadata": {
        "id": "RPbF6ZiOZ7lR"
      },
      "source": [
        "Анонимный автор. Я взяла A_S"
      ]
    },
    {
      "cell_type": "code",
      "execution_count": null,
      "metadata": {
        "colab": {
          "base_uri": "https://localhost:8080/"
        },
        "id": "cuuksUD1aCoW",
        "outputId": "3a62336b-d5d4-4b40-b2fe-8984312443a9"
      },
      "outputs": [
        {
          "name": "stdout",
          "output_type": "stream",
          "text": [
            "159\n",
            "A_S, косинусная близость: 0.8909333944320679\n",
            "Grigoryev, косинусная близость: 0.7654181718826294\n",
            "Fet, косинусная близость: 0.7080225348472595\n",
            "Polonsky, косинусная близость: 0.7009692788124084\n",
            "Ogarev, косинусная близость: 0.6850404739379883\n"
          ]
        }
      ],
      "source": [
        "print(names.index('A_S'))\n",
        "anonymous_vector = d2v_model.infer_vector(texts_for_doc2vec[159])\n",
        "for doc_id, sim in d2v_model.dv.most_similar([anonymous_vector], topn=5):\n",
        "  print(f'{names[doc_id]}, косинусная близость: {sim}')"
      ]
    },
    {
      "cell_type": "markdown",
      "metadata": {
        "id": "W_NlDhL7cSVh"
      },
      "source": [
        "Первый текст – это и есть сам текст A_S, потому что модель и так на нём тренировалась. Поэтому наиболее похож текст анонимного автора на текст Григорьева (хотя разница с остальными не особо большая)"
      ]
    },
    {
      "cell_type": "markdown",
      "metadata": {
        "id": "yxBEaAg-VKgR"
      },
      "source": [
        "# Полносвязные, рекуррентные нейросети и трансформеры"
      ]
    },
    {
      "cell_type": "markdown",
      "metadata": {
        "id": "M6INKsf_TY4w"
      },
      "source": [
        "**Данные: здесь и далее необходимо использовать учебный корпус для анализа тональности** (источник: https://www.kaggle.com/datasets/prishasawhney/sentiment-analysis-evaluation-dataset, файл sentiment_analysis_evaluation.csv на диске).\n",
        "\n",
        "**Задание:** вставьте недостающие фрагменты кода на месте # ВАШ КОД ЗДЕСЬ.\n"
      ]
    },
    {
      "cell_type": "markdown",
      "metadata": {
        "id": "5D-mEuVKEDvd"
      },
      "source": [
        "## FFNN (1.5 балла)"
      ]
    },
    {
      "cell_type": "code",
      "execution_count": null,
      "metadata": {
        "id": "mPN04VO2zZYZ"
      },
      "outputs": [],
      "source": [
        "import pandas as pd"
      ]
    },
    {
      "cell_type": "code",
      "execution_count": null,
      "metadata": {
        "id": "wn-ccbSk40Ko"
      },
      "outputs": [],
      "source": [
        "df = pd.read_csv('/content/sentiment_analysis_evaluation.csv')"
      ]
    },
    {
      "cell_type": "code",
      "execution_count": null,
      "metadata": {
        "colab": {
          "base_uri": "https://localhost:8080/"
        },
        "id": "IYDQJjxMJBY1",
        "outputId": "a20b11fb-ce65-4531-805e-0aa078a31121"
      },
      "outputs": [
        {
          "data": {
            "text/plain": [
              "{'negative', 'positive'}"
            ]
          },
          "execution_count": 24,
          "metadata": {},
          "output_type": "execute_result"
        }
      ],
      "source": [
        "set(df['Label'].tolist())"
      ]
    },
    {
      "cell_type": "code",
      "execution_count": null,
      "metadata": {
        "id": "K59dOofd9M0B"
      },
      "outputs": [],
      "source": [
        "import torch\n",
        "from torch import nn"
      ]
    },
    {
      "cell_type": "code",
      "execution_count": null,
      "metadata": {
        "id": "wVl0vkbBCNcC"
      },
      "outputs": [],
      "source": [
        "import torch.optim as optim"
      ]
    },
    {
      "cell_type": "code",
      "execution_count": null,
      "metadata": {
        "id": "x7tj8clv-YyA"
      },
      "outputs": [],
      "source": [
        "import spacy"
      ]
    },
    {
      "cell_type": "code",
      "execution_count": null,
      "metadata": {
        "id": "mDcCPQDq-g0N"
      },
      "outputs": [],
      "source": [
        "nlp = spacy.load('en_core_web_sm')"
      ]
    },
    {
      "cell_type": "code",
      "execution_count": null,
      "metadata": {
        "id": "Axcd1HAV5AR0"
      },
      "outputs": [],
      "source": [
        "device = torch.device(\"cuda\" if torch.cuda.is_available() else \"cpu\")"
      ]
    },
    {
      "cell_type": "code",
      "execution_count": null,
      "metadata": {
        "id": "LE8VgZCS9RMP"
      },
      "outputs": [],
      "source": [
        "LABELS = {'negative': 0, 'positive': 1}"
      ]
    },
    {
      "cell_type": "code",
      "execution_count": null,
      "metadata": {
        "id": "tXIwYGPFIBJ0"
      },
      "outputs": [],
      "source": [
        "REVERSE_LABELS = {v: k for k, v in LABELS.items()}"
      ]
    },
    {
      "cell_type": "code",
      "execution_count": null,
      "metadata": {
        "id": "iJr7X7349n4-"
      },
      "outputs": [],
      "source": [
        "def label_to_index(label):\n",
        "  return torch.LongTensor([LABELS[label]])"
      ]
    },
    {
      "cell_type": "code",
      "execution_count": null,
      "metadata": {
        "id": "8lo6k5PV9-st"
      },
      "outputs": [],
      "source": [
        "vocabulary = set()\n",
        "lemmatized_texts = []\n",
        "encoded_labels = []\n",
        "\n",
        "\n",
        "for n, row in df.iterrows():\n",
        "\n",
        "  doc = nlp(row['Text'])\n",
        "  lemmas = []\n",
        "\n",
        "  for token in doc:\n",
        "    lemma = token.lemma_\n",
        "    lemmas.append(lemma)\n",
        "    vocabulary.add(lemma)\n",
        "\n",
        "  encoded_labels.append(label_to_index(row['Label']))\n",
        "  lemmatized_texts.append(lemmas)"
      ]
    },
    {
      "cell_type": "code",
      "execution_count": null,
      "metadata": {
        "id": "_fLjAGmY_zEV"
      },
      "outputs": [],
      "source": [
        "vocabulary = list(vocabulary)"
      ]
    },
    {
      "cell_type": "code",
      "execution_count": null,
      "metadata": {
        "id": "1NGFA529ACKm"
      },
      "outputs": [],
      "source": [
        "indexes = {word: ind for ind, word in enumerate(vocabulary)}"
      ]
    },
    {
      "cell_type": "code",
      "execution_count": null,
      "metadata": {
        "id": "O6RqVG7qAR7m"
      },
      "outputs": [],
      "source": [
        "def get_text_vector(text):\n",
        "  current_indexes = [indexes[token] for token in text]\n",
        "  current_tensor = torch.zeros(len(vocabulary))\n",
        "  current_tensor[current_indexes] = 1\n",
        "  return current_tensor.view(1, -1)"
      ]
    },
    {
      "cell_type": "code",
      "execution_count": null,
      "metadata": {
        "id": "OaUe0RBzjNdz"
      },
      "outputs": [],
      "source": [
        "all_categories = list(LABELS.keys())"
      ]
    },
    {
      "cell_type": "code",
      "execution_count": null,
      "metadata": {
        "id": "snlNy2VSBwxQ"
      },
      "outputs": [],
      "source": [
        "from sklearn.model_selection import train_test_split"
      ]
    },
    {
      "cell_type": "code",
      "execution_count": null,
      "metadata": {
        "id": "hPUl5VOaBFey"
      },
      "outputs": [],
      "source": [
        "class FFNN(nn.Module):\n",
        "  def __init__(self, input_dim, hidden_dim, output_dim):\n",
        "    super(FFNN, self).__init__()\n",
        "\n",
        "    self.fc1 = nn.Linear(input_dim, hidden_dim)\n",
        "    self.relu1 = nn.ReLU()\n",
        "\n",
        "    self.fc2 = nn.Linear(hidden_dim, hidden_dim)\n",
        "    self.relu2 = nn.ReLU()\n",
        "\n",
        "    self.fc3 = nn.Linear(hidden_dim, output_dim)\n",
        "\n",
        "    self.softmax = nn.LogSoftmax(dim=1)\n",
        "\n",
        "  def forward(self, x):\n",
        "    out = self.fc1(x)\n",
        "    out = self.relu1(out)\n",
        "\n",
        "    out = self.fc2(out)\n",
        "    out = self.relu2(out)\n",
        "\n",
        "    out = self.fc3(out)\n",
        "\n",
        "    return self.softmax(out)"
      ]
    },
    {
      "cell_type": "code",
      "execution_count": null,
      "metadata": {
        "id": "tXQ1jIgkB3BZ"
      },
      "outputs": [],
      "source": [
        "X_train, X_test, y_train, y_test = train_test_split(lemmatized_texts,\n",
        "                                                    encoded_labels,\n",
        "                                                    stratify=encoded_labels,\n",
        "                                                    test_size=0.2,\n",
        "                                                    shuffle=True)"
      ]
    },
    {
      "cell_type": "code",
      "execution_count": null,
      "metadata": {
        "id": "R-vWv1S-CA3w"
      },
      "outputs": [],
      "source": [
        "input_dim = len(vocabulary)\n",
        "hidden_dim = 50\n",
        "output_dim = len(all_categories)\n",
        "num_epochs = 200\n",
        "\n",
        "ffnn = FFNN(input_dim, hidden_dim, output_dim)\n",
        "ffnn.to(device)\n",
        "\n",
        "loss_function = nn.CrossEntropyLoss() #как я поняла, кросс энтропию часто используют для классификации\n",
        "optimizer = optim.SGD(ffnn.parameters(), lr=0.001) #из notebooks с занятий"
      ]
    },
    {
      "cell_type": "code",
      "execution_count": null,
      "metadata": {
        "id": "-efiapoXCZV8"
      },
      "outputs": [],
      "source": [
        "from tqdm import tqdm"
      ]
    },
    {
      "cell_type": "code",
      "execution_count": null,
      "metadata": {
        "id": "BbeJiNkSCxpm"
      },
      "outputs": [],
      "source": [
        "import random"
      ]
    },
    {
      "cell_type": "code",
      "execution_count": null,
      "metadata": {
        "colab": {
          "base_uri": "https://localhost:8080/"
        },
        "id": "k4f6wIosCe-x",
        "outputId": "6d6838b6-1f27-4bc9-9e17-9c755e19b704"
      },
      "outputs": [
        {
          "name": "stderr",
          "output_type": "stream",
          "text": [
            "100%|██████████| 200/200 [00:47<00:00,  4.18it/s]\n"
          ]
        }
      ],
      "source": [
        "losses = []\n",
        "\n",
        "for epoch in tqdm(range(num_epochs)):\n",
        "\n",
        "  epoch_loss = 0\n",
        "\n",
        "  texts_and_labels = list(zip(X_train, y_train))\n",
        "  random.shuffle(texts_and_labels)\n",
        "\n",
        "  for current_text, current_label in texts_and_labels:\n",
        "\n",
        "    optimizer.zero_grad()\n",
        "\n",
        "      # кодируем имя и категорию, превращая их в тензоры (1 тензор - 1 пример (1 слово), таким образом кодируем имя и индекс категории)\n",
        "    text_tensor = get_text_vector(current_text)\n",
        "    label_tensor = current_label.long()\n",
        "      # forward pass: обновляем веса и получаем вероятности классов для слова\n",
        "    probs = ffnn(text_tensor.to(device))\n",
        "\n",
        "      # считаем значение функции потерь и добавляем его к общему лоссу этой эпохи\n",
        "    loss = loss_function(probs, label_tensor.to(device))\n",
        "    epoch_loss += loss.item() #запоминаем значение тренировочного лосса для дальнейшей отрисовки\n",
        "\n",
        "      # backward pass: распространяем ошибку обратно, чтобы проапдейтить веса\n",
        "    loss.backward()\n",
        "\n",
        "      # Апдейтим веса\n",
        "    optimizer.step()\n",
        "\n",
        "  losses.append(epoch_loss)\n",
        "    # перед следующей эпохой зануляем лосс\n",
        "  epoch_loss = 0"
      ]
    },
    {
      "cell_type": "code",
      "execution_count": null,
      "metadata": {
        "colab": {
          "base_uri": "https://localhost:8080/",
          "height": 451
        },
        "id": "oMhEP1sMENT9",
        "outputId": "70f402bc-7ee8-47b9-989f-dcb3785f3d0c"
      },
      "outputs": [
        {
          "data": {
            "text/plain": [
              "[<matplotlib.lines.Line2D at 0x7fbf7cb62a10>]"
            ]
          },
          "execution_count": 45,
          "metadata": {},
          "output_type": "execute_result"
        },
        {
          "data": {
            "image/png": "[encoded data removed]",
            "text/plain": [
              "<Figure size 640x480 with 1 Axes>"
            ]
          },
          "metadata": {},
          "output_type": "display_data"
        }
      ],
      "source": [
        "import matplotlib.pyplot as plt\n",
        "\n",
        "plt.plot(losses)"
      ]
    },
    {
      "cell_type": "code",
      "execution_count": null,
      "metadata": {
        "colab": {
          "base_uri": "https://localhost:8080/"
        },
        "id": "lO5FIrHtEsez",
        "outputId": "d7c72eba-ef7d-4021-de18-23ca78d0dfa2"
      },
      "outputs": [
        {
          "name": "stderr",
          "output_type": "stream",
          "text": [
            "<ipython-input-46-a5e954df0e62>:9: UserWarning: To copy construct from a tensor, it is recommended to use sourceTensor.clone().detach() or sourceTensor.clone().detach().requires_grad_(True), rather than torch.tensor(sourceTensor).\n",
            "  category_tensor = torch.tensor(label.long())\n"
          ]
        }
      ],
      "source": [
        "from sklearn.metrics import classification_report\n",
        "\n",
        "predictions = []\n",
        "original_labels = []\n",
        "\n",
        "with torch.no_grad():\n",
        "  for text, label in zip(X_test, y_test):\n",
        "    line_tensor = get_text_vector(text)\n",
        "    category_tensor = torch.tensor(label.long())\n",
        "\n",
        "    probs = ffnn(line_tensor) #получаем вероятности каждого класса\n",
        "    predictions.append(torch.argmax(probs, dim=1).cpu().numpy()[0])\n",
        "    original_labels.append(label)"
      ]
    },
    {
      "cell_type": "code",
      "execution_count": null,
      "metadata": {
        "colab": {
          "base_uri": "https://localhost:8080/"
        },
        "id": "BV79gGlXITll",
        "outputId": "97ee21be-8833-4b41-8c9e-a923026507d4"
      },
      "outputs": [
        {
          "name": "stdout",
          "output_type": "stream",
          "text": [
            "              precision    recall  f1-score   support\n",
            "\n",
            "           0       0.73      0.84      0.78        19\n",
            "           1       0.85      0.74      0.79        23\n",
            "\n",
            "    accuracy                           0.79        42\n",
            "   macro avg       0.79      0.79      0.79        42\n",
            "weighted avg       0.79      0.79      0.79        42\n",
            "\n"
          ]
        }
      ],
      "source": [
        "print(classification_report(original_labels, predictions))"
      ]
    },
    {
      "cell_type": "markdown",
      "metadata": {
        "id": "5Hw5xKPgD_iY"
      },
      "source": [
        "## RNN (2 балла)"
      ]
    },
    {
      "cell_type": "markdown",
      "metadata": {
        "id": "XduSb8hVXJ-n"
      },
      "source": [
        "За усложнение архитектуры (использование дополнительных слоев, LSTM-блоков вместо обычных RNN) может быть начислен 1 дополнительный балл."
      ]
    },
    {
      "cell_type": "code",
      "execution_count": null,
      "metadata": {
        "id": "ik9LxusDIeYK"
      },
      "outputs": [],
      "source": [
        "import numpy as np\n",
        "from torch.utils.data import Dataset, DataLoader\n",
        "import torch.nn.functional as F"
      ]
    },
    {
      "cell_type": "code",
      "execution_count": null,
      "metadata": {
        "id": "ZB5vIsuCZUjx"
      },
      "outputs": [],
      "source": [
        "class SentimentDataset(Dataset):\n",
        "  def __init__(self, texts, labels):\n",
        "    self.texts = texts\n",
        "    self.labels = labels\n",
        "\n",
        "  def __len__(self):\n",
        "    return len(self.texts)\n",
        "\n",
        "  def __getitem__(self, ind):\n",
        "    return self.texts[ind], self.labels[ind]"
      ]
    },
    {
      "cell_type": "code",
      "execution_count": null,
      "metadata": {
        "id": "Y_x2MTo-dFQ7"
      },
      "outputs": [],
      "source": [
        "max_len = max([len(text) for text in lemmatized_texts])"
      ]
    },
    {
      "cell_type": "code",
      "execution_count": null,
      "metadata": {
        "colab": {
          "base_uri": "https://localhost:8080/"
        },
        "id": "YB7Ybegld6m6",
        "outputId": "8ea89d39-5c03-4992-f501-cfe5afbfa2a2"
      },
      "outputs": [
        {
          "data": {
            "text/plain": [
              "19"
            ]
          },
          "execution_count": 51,
          "metadata": {},
          "output_type": "execute_result"
        }
      ],
      "source": [
        "max_len"
      ]
    },
    {
      "cell_type": "code",
      "execution_count": null,
      "metadata": {
        "id": "rWzN34o3d7W0"
      },
      "outputs": [],
      "source": [
        "padded_indexed_texts = []\n",
        "\n",
        "for text in lemmatized_texts:\n",
        "  indexes = []\n",
        "\n",
        "  for word in text:\n",
        "    indexes.append(vocabulary.index(word)+1)\n",
        "\n",
        "  if len(indexes) < max_len:\n",
        "    # padding до максимальной длины\n",
        "    indexes.extend([0]*(max_len-len(indexes)))\n",
        "\n",
        "  padded_indexed_texts.append(torch.FloatTensor(indexes))"
      ]
    },
    {
      "cell_type": "code",
      "execution_count": null,
      "metadata": {
        "colab": {
          "base_uri": "https://localhost:8080/"
        },
        "id": "VQg9Se7Xey98",
        "outputId": "51deac7d-8a03-4f7b-a8b7-087cb679b069"
      },
      "outputs": [
        {
          "data": {
            "text/plain": [
              "True"
            ]
          },
          "execution_count": 53,
          "metadata": {},
          "output_type": "execute_result"
        }
      ],
      "source": [
        "all(len(l) == max_len for l in padded_indexed_texts)"
      ]
    },
    {
      "cell_type": "code",
      "execution_count": null,
      "metadata": {
        "id": "s0nwBYatlTPV"
      },
      "outputs": [],
      "source": [
        "encoded_labels_rnn = torch.LongTensor([LABELS[label] for label in df['Label']])"
      ]
    },
    {
      "cell_type": "code",
      "execution_count": null,
      "metadata": {
        "id": "oI-7h-lWe3iP"
      },
      "outputs": [],
      "source": [
        "X_train_rnn, X_test_rnn, y_train_rnn, y_test_rnn = train_test_split(padded_indexed_texts,\n",
        "                                                                    encoded_labels_rnn,\n",
        "                                                                    stratify=encoded_labels_rnn,\n",
        "                                                                    test_size=0.2,\n",
        "                                                                    shuffle=True)"
      ]
    },
    {
      "cell_type": "code",
      "execution_count": null,
      "metadata": {
        "id": "b2KeQwOSfzzD"
      },
      "outputs": [],
      "source": [
        "#переделано под LSTM\n",
        "class RecurrentNN(nn.Module):\n",
        "  def __init__(self, input_dim, hidden_dim, output_dim):\n",
        "    super(RecurrentNN, self).__init__()\n",
        "    self.hidden_dim = hidden_dim\n",
        "\n",
        "    self.lstm = nn.LSTM(input_dim, hidden_dim, batch_first=True)\n",
        "\n",
        "    self.hidden_to_output = nn.Linear(hidden_dim, output_dim)\n",
        "\n",
        "  def forward(self, x, hidden):\n",
        "    lstm_out, hidden = self.lstm(x, hidden)\n",
        "    hidden_tensor = hidden[0].permute(1, 0, 2).squeeze(1)\n",
        "    output = self.hidden_to_output(hidden_tensor)\n",
        "    return output, hidden\n",
        "\n",
        "  def init_hidden(self, batch_size):\n",
        "    return (torch.zeros(1, batch_size, self.hidden_dim).to(device), #видимо для LSTM нужно передавать кортеж с дублирующимися state tensors\n",
        "            torch.zeros(1, batch_size, self.hidden_dim).to(device))"
      ]
    },
    {
      "cell_type": "code",
      "execution_count": null,
      "metadata": {
        "id": "Z6pRB0zdiWas"
      },
      "outputs": [],
      "source": [
        "batch_size = 16\n",
        "input_dim = len(vocabulary)\n",
        "hidden_dim = 100\n",
        "output_dim = len(all_categories)"
      ]
    },
    {
      "cell_type": "code",
      "execution_count": null,
      "metadata": {
        "id": "yinSLpdbi157"
      },
      "outputs": [],
      "source": [
        "train_dataset = SentimentDataset(X_train_rnn, y_train_rnn)\n",
        "train_loader = DataLoader(train_dataset, batch_size=batch_size, shuffle=True)"
      ]
    },
    {
      "cell_type": "code",
      "execution_count": null,
      "metadata": {
        "id": "XOp3kJphiebP"
      },
      "outputs": [],
      "source": [
        "model_rnn = RecurrentNN(max_len, hidden_dim, output_dim).to(device)\n",
        "loss_rnn = nn.CrossEntropyLoss()\n",
        "optim_rnn = optim.AdamW(model_rnn.parameters(), lr=0.001)"
      ]
    },
    {
      "cell_type": "code",
      "execution_count": null,
      "metadata": {
        "colab": {
          "base_uri": "https://localhost:8080/"
        },
        "id": "KwxHOWcAlGiB",
        "outputId": "ad55f0a0-bd01-4722-c09c-efcba70cff93"
      },
      "outputs": [
        {
          "name": "stderr",
          "output_type": "stream",
          "text": [
            "  3%|▎         | 3/100 [00:00<00:07, 13.77it/s]"
          ]
        },
        {
          "name": "stdout",
          "output_type": "stream",
          "text": [
            "Epoch 0, loss 0.6804683587767861\n",
            "Epoch 1, loss 0.6207824728705666\n",
            "Epoch 2, loss 0.5895945483987982\n",
            "Epoch 3, loss 0.5743252580816095\n"
          ]
        },
        {
          "name": "stderr",
          "output_type": "stream",
          "text": [
            "  8%|▊         | 8/100 [00:00<00:04, 19.31it/s]"
          ]
        },
        {
          "name": "stdout",
          "output_type": "stream",
          "text": [
            "Epoch 4, loss 0.5484454740177501\n",
            "Epoch 5, loss 0.5206683061339639\n",
            "Epoch 6, loss 0.5061310665173964\n",
            "Epoch 7, loss 0.4788165336305445\n",
            "Epoch 8, loss 0.47081792625513946\n",
            "Epoch 9, loss 0.4521257064559243\n"
          ]
        },
        {
          "name": "stderr",
          "output_type": "stream",
          "text": [
            " 14%|█▍        | 14/100 [00:00<00:03, 24.80it/s]"
          ]
        },
        {
          "name": "stdout",
          "output_type": "stream",
          "text": [
            "Epoch 10, loss 0.44576252048665826\n",
            "Epoch 11, loss 0.4276929931207137\n",
            "Epoch 12, loss 0.3906316567551006\n",
            "Epoch 13, loss 0.3815987462347204\n",
            "Epoch 14, loss 0.3806863156231967\n",
            "Epoch 15, loss 0.3862876133485274\n",
            "Epoch 16, loss 0.36556322601708496\n"
          ]
        },
        {
          "name": "stderr",
          "output_type": "stream",
          "text": [
            " 22%|██▏       | 22/100 [00:00<00:02, 28.44it/s]"
          ]
        },
        {
          "name": "stdout",
          "output_type": "stream",
          "text": [
            "Epoch 17, loss 0.34762092612006446\n",
            "Epoch 18, loss 0.34968135438182135\n",
            "Epoch 19, loss 0.33187852935357526\n",
            "Epoch 20, loss 0.33533486452969635\n",
            "Epoch 21, loss 0.3234426582401449\n",
            "Epoch 22, loss 0.3078549680384723\n",
            "Epoch 23, loss 0.2870772508057681\n"
          ]
        },
        {
          "name": "stderr",
          "output_type": "stream",
          "text": [
            " 30%|███       | 30/100 [00:01<00:02, 30.00it/s]"
          ]
        },
        {
          "name": "stdout",
          "output_type": "stream",
          "text": [
            "Epoch 24, loss 0.2851532602852041\n",
            "Epoch 25, loss 0.2880152436819943\n",
            "Epoch 26, loss 0.28164870224215766\n",
            "Epoch 27, loss 0.26797992397438397\n",
            "Epoch 28, loss 0.2546958733688701\n",
            "Epoch 29, loss 0.23592753572897476\n",
            "Epoch 30, loss 0.2398292381655086\n"
          ]
        },
        {
          "name": "stderr",
          "output_type": "stream",
          "text": [
            " 36%|███▌      | 36/100 [00:01<00:02, 29.10it/s]"
          ]
        },
        {
          "name": "stdout",
          "output_type": "stream",
          "text": [
            "Epoch 31, loss 0.22548197345300156\n",
            "Epoch 32, loss 0.2195284298875115\n",
            "Epoch 33, loss 0.21570846573873\n",
            "Epoch 34, loss 0.21276308528401636\n",
            "Epoch 35, loss 0.20387516577135434\n",
            "Epoch 36, loss 0.20460303669626062\n"
          ]
        },
        {
          "name": "stderr",
          "output_type": "stream",
          "text": [
            " 42%|████▏     | 42/100 [00:01<00:02, 28.85it/s]"
          ]
        },
        {
          "name": "stdout",
          "output_type": "stream",
          "text": [
            "Epoch 37, loss 0.19013705172322012\n",
            "Epoch 38, loss 0.18005492673678833\n",
            "Epoch 39, loss 0.17591198872436176\n",
            "Epoch 40, loss 0.18282214484431528\n",
            "Epoch 41, loss 0.17517327517271042\n",
            "Epoch 42, loss 0.16355157169428738\n"
          ]
        },
        {
          "name": "stderr",
          "output_type": "stream",
          "text": [
            " 48%|████▊     | 48/100 [00:01<00:01, 28.68it/s]"
          ]
        },
        {
          "name": "stdout",
          "output_type": "stream",
          "text": [
            "Epoch 43, loss 0.17269436811858957\n",
            "Epoch 44, loss 0.16748237474398178\n",
            "Epoch 45, loss 0.1586949811740355\n",
            "Epoch 46, loss 0.15401481091976166\n",
            "Epoch 47, loss 0.15158917280760678\n",
            "Epoch 48, loss 0.14813266355882992\n"
          ]
        },
        {
          "name": "stderr",
          "output_type": "stream",
          "text": [
            " 54%|█████▍    | 54/100 [00:02<00:01, 29.06it/s]"
          ]
        },
        {
          "name": "stdout",
          "output_type": "stream",
          "text": [
            "Epoch 49, loss 0.14313959398052908\n",
            "Epoch 50, loss 0.13748841326345096\n",
            "Epoch 51, loss 0.1457109349695119\n",
            "Epoch 52, loss 0.1398063593290069\n",
            "Epoch 53, loss 0.14423965527252716\n",
            "Epoch 54, loss 0.132973426444964\n"
          ]
        },
        {
          "name": "stderr",
          "output_type": "stream",
          "text": [
            " 60%|██████    | 60/100 [00:02<00:01, 29.01it/s]"
          ]
        },
        {
          "name": "stdout",
          "output_type": "stream",
          "text": [
            "Epoch 55, loss 0.1435635801066052\n",
            "Epoch 56, loss 0.13580129837447946\n",
            "Epoch 57, loss 0.13031393425031143\n",
            "Epoch 58, loss 0.120982383123853\n",
            "Epoch 59, loss 0.11801541495052251\n",
            "Epoch 60, loss 0.1157092892310836\n"
          ]
        },
        {
          "name": "stderr",
          "output_type": "stream",
          "text": [
            " 66%|██████▌   | 66/100 [00:02<00:01, 28.55it/s]"
          ]
        },
        {
          "name": "stdout",
          "output_type": "stream",
          "text": [
            "Epoch 61, loss 0.11864247037605806\n",
            "Epoch 62, loss 0.11785083467310126\n",
            "Epoch 63, loss 0.11312029713934119\n",
            "Epoch 64, loss 0.10774561305615035\n",
            "Epoch 65, loss 0.11122857948595827\n",
            "Epoch 66, loss 0.1070229018276388\n"
          ]
        },
        {
          "name": "stderr",
          "output_type": "stream",
          "text": [
            " 72%|███████▏  | 72/100 [00:02<00:00, 28.92it/s]"
          ]
        },
        {
          "name": "stdout",
          "output_type": "stream",
          "text": [
            "Epoch 67, loss 0.11299567060037093\n",
            "Epoch 68, loss 0.10781891508535905\n",
            "Epoch 69, loss 0.10196785120801492\n",
            "Epoch 70, loss 0.10286489027467641\n",
            "Epoch 71, loss 0.09611993824893778\n",
            "Epoch 72, loss 0.09753982587294145\n",
            "Epoch 73, loss 0.09353861483660611\n"
          ]
        },
        {
          "name": "stderr",
          "output_type": "stream",
          "text": [
            " 79%|███████▉  | 79/100 [00:02<00:00, 29.36it/s]"
          ]
        },
        {
          "name": "stdout",
          "output_type": "stream",
          "text": [
            "Epoch 74, loss 0.08988520672375505\n",
            "Epoch 75, loss 0.09732092239639976\n",
            "Epoch 76, loss 0.0886887555772608\n",
            "Epoch 77, loss 0.08994304693557999\n",
            "Epoch 78, loss 0.08506697213107889\n",
            "Epoch 79, loss 0.08433826741847125\n"
          ]
        },
        {
          "name": "stderr",
          "output_type": "stream",
          "text": [
            " 86%|████████▌ | 86/100 [00:03<00:00, 29.77it/s]"
          ]
        },
        {
          "name": "stdout",
          "output_type": "stream",
          "text": [
            "Epoch 80, loss 0.09239769659259102\n",
            "Epoch 81, loss 0.08437684178352356\n",
            "Epoch 82, loss 0.0902052650397474\n",
            "Epoch 83, loss 0.0859397312795574\n",
            "Epoch 84, loss 0.08472066609696909\n",
            "Epoch 85, loss 0.08550244739109819\n",
            "Epoch 86, loss 0.07939111390574412\n"
          ]
        },
        {
          "name": "stderr",
          "output_type": "stream",
          "text": [
            " 94%|█████████▍| 94/100 [00:03<00:00, 29.80it/s]"
          ]
        },
        {
          "name": "stdout",
          "output_type": "stream",
          "text": [
            "Epoch 87, loss 0.07774626599116759\n",
            "Epoch 88, loss 0.07702997496182268\n",
            "Epoch 89, loss 0.07769208570772951\n",
            "Epoch 90, loss 0.07471645267849619\n",
            "Epoch 91, loss 0.07548039000142705\n",
            "Epoch 92, loss 0.07546235112981363\n",
            "Epoch 93, loss 0.07515210048718886\n"
          ]
        },
        {
          "name": "stderr",
          "output_type": "stream",
          "text": [
            "100%|██████████| 100/100 [00:03<00:00, 27.89it/s]"
          ]
        },
        {
          "name": "stdout",
          "output_type": "stream",
          "text": [
            "Epoch 94, loss 0.07113994217731735\n",
            "Epoch 95, loss 0.07118501683527773\n",
            "Epoch 96, loss 0.07072143121199174\n",
            "Epoch 97, loss 0.07031248848546635\n",
            "Epoch 98, loss 0.06597682368010283\n",
            "Epoch 99, loss 0.06755770692093806\n"
          ]
        },
        {
          "name": "stderr",
          "output_type": "stream",
          "text": [
            "\n"
          ]
        }
      ],
      "source": [
        "losses = []\n",
        "rnn_epochs = 100\n",
        "\n",
        "for epoch in tqdm(range(rnn_epochs)):\n",
        "\n",
        "  epoch_loss = 0\n",
        "#проблема с постоянным batch_size :(\n",
        "  for texts, labels in train_loader:\n",
        "    current_batch_size = texts.size(0)\n",
        "    hidden = model_rnn.init_hidden(current_batch_size)\n",
        "\n",
        "      # Очищаем градиент, аккумулированный на предыдущих этапах\n",
        "    optim_rnn.zero_grad()\n",
        "\n",
        "      # кодируем имя и категорию, превращая их в тензоры\n",
        "    line_tensor = texts.to(device)\n",
        "    category_tensor = labels.long().to(device)\n",
        "\n",
        "      # forward pass: идем по каждой букве, обновляем веса и получаем вероятности классов для слова\n",
        "\n",
        "    output, hidden = model_rnn(line_tensor.unsqueeze(1), hidden)\n",
        "\n",
        "    output = output.squeeze(1) #для функции потерь\n",
        "\n",
        "      # считаем значение функции потерь и добавляем его к общему лоссу этой эпохи\n",
        "    loss = loss_rnn(output, category_tensor)\n",
        "    epoch_loss += loss.item()\n",
        "\n",
        "      # backward pass: распространяем ошибку обратно, чтобы проапдейтить веса\n",
        "    loss.backward()\n",
        "\n",
        "      # Апдейтим веса\n",
        "    optim_rnn.step()\n",
        "\n",
        "  losses.append(epoch_loss/len(train_loader))\n",
        "\n",
        "  print('Epoch {0}, loss {1}'.format(epoch, epoch_loss/len(train_loader)))\n",
        "\n",
        "\n",
        "  epoch_loss = 0"
      ]
    },
    {
      "cell_type": "code",
      "execution_count": null,
      "metadata": {
        "colab": {
          "base_uri": "https://localhost:8080/",
          "height": 448
        },
        "id": "bQiOefvxm7Rc",
        "outputId": "9404c09d-28f0-4858-8378-1f5a919a8bcf"
      },
      "outputs": [
        {
          "data": {
            "text/plain": [
              "[<matplotlib.lines.Line2D at 0x7fbf6e18aa10>]"
            ]
          },
          "execution_count": 61,
          "metadata": {},
          "output_type": "execute_result"
        },
        {
          "data": {
            "image/png": "[encoded data removed]",
            "text/plain": [
              "<Figure size 640x480 with 1 Axes>"
            ]
          },
          "metadata": {},
          "output_type": "display_data"
        }
      ],
      "source": [
        "import matplotlib.pyplot as plt\n",
        "\n",
        "plt.plot(losses)"
      ]
    },
    {
      "cell_type": "code",
      "execution_count": null,
      "metadata": {
        "id": "tz1ta6oGoTek"
      },
      "outputs": [],
      "source": [
        "test_dataset = SentimentDataset(X_test_rnn, y_test_rnn)\n",
        "test_loader = DataLoader(test_dataset, batch_size=batch_size, shuffle=True)"
      ]
    },
    {
      "cell_type": "code",
      "execution_count": null,
      "metadata": {
        "id": "CkTZYIxYnzhQ"
      },
      "outputs": [],
      "source": [
        "predictions = []\n",
        "original_labels = []\n",
        "\n",
        "with torch.no_grad():\n",
        "  model_rnn.eval()\n",
        "  for texts, labels in test_loader:\n",
        "    current_batch_size = texts.size(0)\n",
        "    hidden = model_rnn.init_hidden(current_batch_size)\n",
        "    line_tensor = texts.to(device)\n",
        "    category_tensor = labels.long().to(device)\n",
        "    output, hidden = model_rnn(line_tensor.unsqueeze(1), hidden)\n",
        "    output = output.squeeze(1)\n",
        "\n",
        "    _, predicted_labels = torch.max(output, dim=1) #выдаёт наиболее вероятную категорию\n",
        "    predictions.extend(predicted_labels.numpy())\n",
        "    original_labels.extend(labels.numpy())"
      ]
    },
    {
      "cell_type": "code",
      "execution_count": null,
      "metadata": {
        "colab": {
          "base_uri": "https://localhost:8080/"
        },
        "id": "Q1wTuNyQplW4",
        "outputId": "14a121fe-b20b-4013-8341-ca2062bb0949"
      },
      "outputs": [
        {
          "name": "stdout",
          "output_type": "stream",
          "text": [
            "              precision    recall  f1-score   support\n",
            "\n",
            "           0       0.53      0.47      0.50        19\n",
            "           1       0.60      0.65      0.62        23\n",
            "\n",
            "    accuracy                           0.57        42\n",
            "   macro avg       0.56      0.56      0.56        42\n",
            "weighted avg       0.57      0.57      0.57        42\n",
            "\n"
          ]
        }
      ],
      "source": [
        "print(classification_report(original_labels, predictions))"
      ]
    },
    {
      "cell_type": "markdown",
      "metadata": {
        "id": "u5BiVJYWTrpo"
      },
      "source": [
        "если честно, я сначала пробовала обычную RNN, и значения были выше)))"
      ]
    },
    {
      "cell_type": "markdown",
      "metadata": {
        "id": "-w8YofZ5D622"
      },
      "source": [
        "## Transformers (2 балла)"
      ]
    },
    {
      "cell_type": "markdown",
      "metadata": {
        "id": "hqvYPrhFWSSQ"
      },
      "source": [
        "За использование другой базовой модели может быть начислен 1 дополнительный балл."
      ]
    },
    {
      "cell_type": "code",
      "execution_count": null,
      "metadata": {
        "colab": {
          "base_uri": "https://localhost:8080/"
        },
        "id": "XWRBs8JTqCRy",
        "outputId": "a2bc631c-6f6d-4278-bb09-7ecb68a7400b"
      },
      "outputs": [
        {
          "name": "stdout",
          "output_type": "stream",
          "text": [
            "Requirement already satisfied: transformers[torch] in /usr/local/lib/python3.11/dist-packages (4.52.4)\n",
            "Requirement already satisfied: filelock in /usr/local/lib/python3.11/dist-packages (from transformers[torch]) (3.18.0)\n",
            "Requirement already satisfied: huggingface-hub<1.0,>=0.30.0 in /usr/local/lib/python3.11/dist-packages (from transformers[torch]) (0.32.4)\n",
            "Requirement already satisfied: numpy>=1.17 in /usr/local/lib/python3.11/dist-packages (from transformers[torch]) (1.26.4)\n",
            "Requirement already satisfied: packaging>=20.0 in /usr/local/lib/python3.11/dist-packages (from transformers[torch]) (24.2)\n",
            "Requirement already satisfied: pyyaml>=5.1 in /usr/local/lib/python3.11/dist-packages (from transformers[torch]) (6.0.2)\n",
            "Requirement already satisfied: regex!=2019.12.17 in /usr/local/lib/python3.11/dist-packages (from transformers[torch]) (2024.11.6)\n",
            "Requirement already satisfied: requests in /usr/local/lib/python3.11/dist-packages (from transformers[torch]) (2.32.3)\n",
            "Requirement already satisfied: tokenizers<0.22,>=0.21 in /usr/local/lib/python3.11/dist-packages (from transformers[torch]) (0.21.1)\n",
            "Requirement already satisfied: safetensors>=0.4.3 in /usr/local/lib/python3.11/dist-packages (from transformers[torch]) (0.5.3)\n",
            "Requirement already satisfied: tqdm>=4.27 in /usr/local/lib/python3.11/dist-packages (from transformers[torch]) (4.67.1)\n",
            "Requirement already satisfied: torch<2.7,>=2.1 in /usr/local/lib/python3.11/dist-packages (from transformers[torch]) (2.6.0+cu124)\n",
            "Requirement already satisfied: accelerate>=0.26.0 in /usr/local/lib/python3.11/dist-packages (from transformers[torch]) (1.7.0)\n",
            "Requirement already satisfied: psutil in /usr/local/lib/python3.11/dist-packages (from accelerate>=0.26.0->transformers[torch]) (5.9.5)\n",
            "Requirement already satisfied: fsspec>=2023.5.0 in /usr/local/lib/python3.11/dist-packages (from huggingface-hub<1.0,>=0.30.0->transformers[torch]) (2025.3.2)\n",
            "Requirement already satisfied: typing-extensions>=3.7.4.3 in /usr/local/lib/python3.11/dist-packages (from huggingface-hub<1.0,>=0.30.0->transformers[torch]) (4.14.0)\n",
            "Requirement already satisfied: hf-xet<2.0.0,>=1.1.2 in /usr/local/lib/python3.11/dist-packages (from huggingface-hub<1.0,>=0.30.0->transformers[torch]) (1.1.2)\n",
            "Requirement already satisfied: networkx in /usr/local/lib/python3.11/dist-packages (from torch<2.7,>=2.1->transformers[torch]) (3.5)\n",
            "Requirement already satisfied: jinja2 in /usr/local/lib/python3.11/dist-packages (from torch<2.7,>=2.1->transformers[torch]) (3.1.6)\n",
            "Requirement already satisfied: nvidia-cuda-nvrtc-cu12==12.4.127 in /usr/local/lib/python3.11/dist-packages (from torch<2.7,>=2.1->transformers[torch]) (12.4.127)\n",
            "Requirement already satisfied: nvidia-cuda-runtime-cu12==12.4.127 in /usr/local/lib/python3.11/dist-packages (from torch<2.7,>=2.1->transformers[torch]) (12.4.127)\n",
            "Requirement already satisfied: nvidia-cuda-cupti-cu12==12.4.127 in /usr/local/lib/python3.11/dist-packages (from torch<2.7,>=2.1->transformers[torch]) (12.4.127)\n",
            "Requirement already satisfied: nvidia-cudnn-cu12==9.1.0.70 in /usr/local/lib/python3.11/dist-packages (from torch<2.7,>=2.1->transformers[torch]) (9.1.0.70)\n",
            "Requirement already satisfied: nvidia-cublas-cu12==12.4.5.8 in /usr/local/lib/python3.11/dist-packages (from torch<2.7,>=2.1->transformers[torch]) (12.4.5.8)\n",
            "Requirement already satisfied: nvidia-cufft-cu12==11.2.1.3 in /usr/local/lib/python3.11/dist-packages (from torch<2.7,>=2.1->transformers[torch]) (11.2.1.3)\n",
            "Requirement already satisfied: nvidia-curand-cu12==10.3.5.147 in /usr/local/lib/python3.11/dist-packages (from torch<2.7,>=2.1->transformers[torch]) (10.3.5.147)\n",
            "Requirement already satisfied: nvidia-cusolver-cu12==11.6.1.9 in /usr/local/lib/python3.11/dist-packages (from torch<2.7,>=2.1->transformers[torch]) (11.6.1.9)\n",
            "Requirement already satisfied: nvidia-cusparse-cu12==12.3.1.170 in /usr/local/lib/python3.11/dist-packages (from torch<2.7,>=2.1->transformers[torch]) (12.3.1.170)\n",
            "Requirement already satisfied: nvidia-cusparselt-cu12==0.6.2 in /usr/local/lib/python3.11/dist-packages (from torch<2.7,>=2.1->transformers[torch]) (0.6.2)\n",
            "Requirement already satisfied: nvidia-nccl-cu12==2.21.5 in /usr/local/lib/python3.11/dist-packages (from torch<2.7,>=2.1->transformers[torch]) (2.21.5)\n",
            "Requirement already satisfied: nvidia-nvtx-cu12==12.4.127 in /usr/local/lib/python3.11/dist-packages (from torch<2.7,>=2.1->transformers[torch]) (12.4.127)\n",
            "Requirement already satisfied: nvidia-nvjitlink-cu12==12.4.127 in /usr/local/lib/python3.11/dist-packages (from torch<2.7,>=2.1->transformers[torch]) (12.4.127)\n",
            "Requirement already satisfied: triton==3.2.0 in /usr/local/lib/python3.11/dist-packages (from torch<2.7,>=2.1->transformers[torch]) (3.2.0)\n",
            "Requirement already satisfied: sympy==1.13.1 in /usr/local/lib/python3.11/dist-packages (from torch<2.7,>=2.1->transformers[torch]) (1.13.1)\n",
            "Requirement already satisfied: mpmath<1.4,>=1.1.0 in /usr/local/lib/python3.11/dist-packages (from sympy==1.13.1->torch<2.7,>=2.1->transformers[torch]) (1.3.0)\n",
            "Requirement already satisfied: charset-normalizer<4,>=2 in /usr/local/lib/python3.11/dist-packages (from requests->transformers[torch]) (3.4.2)\n",
            "Requirement already satisfied: idna<4,>=2.5 in /usr/local/lib/python3.11/dist-packages (from requests->transformers[torch]) (3.10)\n",
            "Requirement already satisfied: urllib3<3,>=1.21.1 in /usr/local/lib/python3.11/dist-packages (from requests->transformers[torch]) (2.4.0)\n",
            "Requirement already satisfied: certifi>=2017.4.17 in /usr/local/lib/python3.11/dist-packages (from requests->transformers[torch]) (2025.4.26)\n",
            "Requirement already satisfied: MarkupSafe>=2.0 in /usr/local/lib/python3.11/dist-packages (from jinja2->torch<2.7,>=2.1->transformers[torch]) (3.0.2)\n"
          ]
        }
      ],
      "source": [
        "! pip install transformers[torch]"
      ]
    },
    {
      "cell_type": "code",
      "execution_count": null,
      "metadata": {
        "colab": {
          "base_uri": "https://localhost:8080/"
        },
        "id": "3KZVDb-0tdhs",
        "outputId": "eec74a42-1b4f-4c84-baad-7d61830bdb32"
      },
      "outputs": [
        {
          "name": "stderr",
          "output_type": "stream",
          "text": [
            "/usr/local/lib/python3.11/dist-packages/huggingface_hub/utils/_auth.py:94: UserWarning: \n",
            "The secret `HF_TOKEN` does not exist in your Colab secrets.\n",
            "To authenticate with the Hugging Face Hub, create a token in your settings tab (https://huggingface.co/settings/tokens), set it as secret in your Google Colab and restart your session.\n",
            "You will be able to reuse this secret in all of your notebooks.\n",
            "Please note that authentication is recommended but still optional to access public models or datasets.\n",
            "  warnings.warn(\n",
            "Some weights of DistilBertForSequenceClassification were not initialized from the model checkpoint at distilbert-base-uncased and are newly initialized: ['classifier.bias', 'classifier.weight', 'pre_classifier.bias', 'pre_classifier.weight']\n",
            "You should probably TRAIN this model on a down-stream task to be able to use it for predictions and inference.\n"
          ]
        }
      ],
      "source": [
        "from transformers import DistilBertTokenizer, DistilBertForSequenceClassification\n",
        "from torch.optim import AdamW #пришлось поменять откуда импортировать, потому что AdamW из transformers was deprecated\n",
        "\n",
        "model_checkpoint = \"distilbert-base-uncased\"\n",
        "tokenizer = DistilBertTokenizer.from_pretrained(model_checkpoint)\n",
        "model_tf = DistilBertForSequenceClassification.from_pretrained(model_checkpoint, num_labels=2).to(device)"
      ]
    },
    {
      "cell_type": "code",
      "execution_count": null,
      "metadata": {
        "id": "BbZp-vkdu3v5"
      },
      "outputs": [],
      "source": [
        "encoded_labels_for_tf = [LABELS[label] for label in df['Label'].tolist()]"
      ]
    },
    {
      "cell_type": "code",
      "execution_count": null,
      "metadata": {
        "id": "S72SX57yuMLW"
      },
      "outputs": [],
      "source": [
        "X_train_tf, X_test_tf, y_train_tf, y_test_tf = train_test_split(df['Text'].tolist(),\n",
        "                                                                encoded_labels_for_tf,\n",
        "                                                                stratify=encoded_labels_for_tf,\n",
        "                                                                test_size=0.2)"
      ]
    },
    {
      "cell_type": "code",
      "execution_count": null,
      "metadata": {
        "id": "SM59CtgHwJd-"
      },
      "outputs": [],
      "source": [
        "import random"
      ]
    },
    {
      "cell_type": "code",
      "execution_count": null,
      "metadata": {
        "id": "5VQgmSizweyT"
      },
      "outputs": [],
      "source": [
        "optimizer_tf = optim.AdamW(model_tf.parameters(), lr=3e-4)"
      ]
    },
    {
      "cell_type": "code",
      "execution_count": null,
      "metadata": {
        "id": "XJh2mmKMCfC7"
      },
      "outputs": [],
      "source": [
        "from torch.utils.data import TensorDataset, DataLoader"
      ]
    },
    {
      "cell_type": "code",
      "execution_count": null,
      "metadata": {
        "id": "MRwXmFX_APVr"
      },
      "outputs": [],
      "source": [
        "train_encodings = tokenizer(X_train_tf, truncation=True, padding=True)\n",
        "test_encodings = tokenizer(X_test_tf, truncation=True, padding=True)\n",
        "\n",
        "train_labels = torch.tensor(y_train_tf, dtype=torch.long)\n",
        "test_labels = torch.tensor(y_test_tf, dtype=torch.long)\n",
        "\n",
        "\n",
        "train_dataset = TensorDataset(torch.tensor(train_encodings['input_ids']),\n",
        "                              torch.tensor(train_encodings['attention_mask']),\n",
        "                              train_labels)\n",
        "test_dataset = TensorDataset(torch.tensor(test_encodings['input_ids']),\n",
        "                            torch.tensor(test_encodings['attention_mask']),\n",
        "                            test_labels)"
      ]
    },
    {
      "cell_type": "code",
      "execution_count": null,
      "metadata": {
        "id": "_psN6rdECnNJ"
      },
      "outputs": [],
      "source": [
        "batch_size = 16\n",
        "\n",
        "train_loader = DataLoader(train_dataset, batch_size=batch_size, shuffle=True)\n",
        "test_loader = DataLoader(test_dataset, batch_size=batch_size, shuffle=False)"
      ]
    },
    {
      "cell_type": "code",
      "execution_count": null,
      "metadata": {
        "colab": {
          "base_uri": "https://localhost:8080/"
        },
        "id": "mFaMYmduvw3P",
        "outputId": "90c574b4-5d01-4e10-b45e-a166ebb0e019"
      },
      "outputs": [
        {
          "name": "stdout",
          "output_type": "stream",
          "text": [
            "epoch 0, loss: 0.5482675351879813\n",
            "epoch 1, loss: 0.2918808297677474\n",
            "epoch 2, loss: 0.1834856986322186\n",
            "epoch 3, loss: 0.044979235623031855\n",
            "epoch 4, loss: 0.09724315867589955\n",
            "epoch 5, loss: 0.16156161366961896\n",
            "epoch 6, loss: 0.25396535477854987\n",
            "epoch 7, loss: 0.16437339748848567\n",
            "epoch 8, loss: 0.09987261586568573\n",
            "epoch 9, loss: 0.07079001858999784\n"
          ]
        }
      ],
      "source": [
        "#код выполняется около 5 мин\n",
        "epochs = 10\n",
        "losses_tf = []\n",
        "\n",
        "for epoch in range(epochs):\n",
        "\n",
        "  model_tf.train()\n",
        "\n",
        "  epoch_loss = 0\n",
        "\n",
        "  for batch in train_loader:\n",
        "      # ВАШ КОД ЗДЕСЬ\n",
        "      optimizer_tf.zero_grad()\n",
        "\n",
        "      res_tf = model_tf(batch[0].to(device), attention_mask=batch[1].to(device), labels=batch[2].to(device))\n",
        "      #print(res_tf)\n",
        "      epoch_loss += res_tf.loss.item()\n",
        "\n",
        "      #backward pass & optimiser step\n",
        "      res_tf.loss.backward()\n",
        "      optimizer_tf.step()\n",
        "\n",
        "  losses_tf.append(epoch_loss / len(train_loader))\n",
        "\n",
        "  print(f\"epoch {epoch}, loss: {epoch_loss / len(train_loader)}\")\n"
      ]
    },
    {
      "cell_type": "code",
      "execution_count": null,
      "metadata": {
        "colab": {
          "base_uri": "https://localhost:8080/"
        },
        "id": "laIe_H18dTnZ",
        "outputId": "467c8dbb-6d67-4768-d4f6-3c42c0e3f8b7"
      },
      "outputs": [
        {
          "data": {
            "text/plain": [
              "[0.5482675351879813,\n",
              " 0.2918808297677474,\n",
              " 0.1834856986322186,\n",
              " 0.044979235623031855,\n",
              " 0.09724315867589955,\n",
              " 0.16156161366961896,\n",
              " 0.25396535477854987,\n",
              " 0.16437339748848567,\n",
              " 0.09987261586568573,\n",
              " 0.07079001858999784]"
            ]
          },
          "execution_count": 75,
          "metadata": {},
          "output_type": "execute_result"
        }
      ],
      "source": [
        "losses_tf"
      ]
    },
    {
      "cell_type": "code",
      "execution_count": null,
      "metadata": {
        "colab": {
          "base_uri": "https://localhost:8080/",
          "height": 448
        },
        "id": "xS4iS10qc3dn",
        "outputId": "6d6e79c1-fe1d-4d13-8f06-626ed3f03553"
      },
      "outputs": [
        {
          "data": {
            "text/plain": [
              "[<matplotlib.lines.Line2D at 0x7fbf09726310>]"
            ]
          },
          "execution_count": 76,
          "metadata": {},
          "output_type": "execute_result"
        },
        {
          "data": {
            "image/png": "[encoded data removed]",
            "text/plain": [
              "<Figure size 640x480 with 1 Axes>"
            ]
          },
          "metadata": {},
          "output_type": "display_data"
        }
      ],
      "source": [
        "import matplotlib.pyplot as plt\n",
        "\n",
        "plt.plot(losses_tf)"
      ]
    },
    {
      "cell_type": "code",
      "execution_count": null,
      "metadata": {
        "id": "lvHhGnyMyV5D"
      },
      "outputs": [],
      "source": [
        "predictions = []\n",
        "probabilities = []\n",
        "original_labels = []\n",
        "\n",
        "with torch.no_grad():\n",
        "\n",
        "  model_tf.eval() #больше веса менять не надо\n",
        "\n",
        "  #for test_text, test_label in list(zip(X_test_tf, y_test_tf)):\n",
        "  for batch in test_loader: #у нас же уже был test_loader, не поняла, зачем тут было делать zip\n",
        "    # ВАШ КОД ЗДЕСЬ\n",
        "    input_ids = batch[0].to(device)\n",
        "    attention_mask = batch[1].to(device)\n",
        "    labels = batch[2].to(device) #true labels\n",
        "\n",
        "    res_test_tf = model_tf(input_ids, attention_mask=attention_mask)\n",
        "    pred_labels_logits = res_test_tf.logits\n",
        "    probs_tf = torch.softmax(pred_labels_logits, dim=1)\n",
        "    pred_labels = torch.argmax(pred_labels_logits, dim=1)\n",
        "\n",
        "    #extend\n",
        "    probabilities.extend(probs_tf.cpu().numpy())\n",
        "    predictions.extend(pred_labels.cpu().numpy())\n",
        "    original_labels.extend(labels.cpu().numpy())\n",
        "\n",
        "\n"
      ]
    },
    {
      "cell_type": "code",
      "execution_count": null,
      "metadata": {
        "colab": {
          "base_uri": "https://localhost:8080/"
        },
        "id": "yyxoqn6T8v9h",
        "outputId": "f0053ab7-7964-4849-e4bd-32ee526ce98d"
      },
      "outputs": [
        {
          "name": "stdout",
          "output_type": "stream",
          "text": [
            "              precision    recall  f1-score   support\n",
            "\n",
            "           0       0.76      0.68      0.72        19\n",
            "           1       0.76      0.83      0.79        23\n",
            "\n",
            "    accuracy                           0.76        42\n",
            "   macro avg       0.76      0.76      0.76        42\n",
            "weighted avg       0.76      0.76      0.76        42\n",
            "\n"
          ]
        }
      ],
      "source": [
        "from sklearn.metrics import classification_report\n",
        "print(classification_report(original_labels, predictions))"
      ]
    },
    {
      "cell_type": "code",
      "execution_count": null,
      "metadata": {
        "colab": {
          "base_uri": "https://localhost:8080/"
        },
        "id": "Sl9kMj29PZ-G",
        "outputId": "5b28854a-2849-4e88-b6e2-f4bbd9841dcb"
      },
      "outputs": [
        {
          "name": "stdout",
          "output_type": "stream",
          "text": [
            "tensor([0.3156, 0.6844])\n"
          ]
        }
      ],
      "source": [
        "print(torch.mean(probs_tf, dim=0)) #в первый раз, когда запустила, 0 класс не предсказывался совсем, а сейчас всё норм..."
      ]
    },
    {
      "cell_type": "markdown",
      "metadata": {
        "id": "KTsvvvrX8TCb"
      },
      "source": [
        "## **То же самое, только с Т5**\n",
        "\n",
        "\n"
      ]
    },
    {
      "cell_type": "markdown",
      "metadata": {
        "id": "l2R8GeJlIvwL"
      },
      "source": [
        "(и с другим размером батча и кол-вом эпох)"
      ]
    },
    {
      "cell_type": "code",
      "execution_count": null,
      "metadata": {
        "colab": {
          "base_uri": "https://localhost:8080/"
        },
        "id": "7wWCufSg8SMC",
        "outputId": "0fa21fa6-2413-4cad-8232-e61433e8ad98"
      },
      "outputs": [
        {
          "name": "stderr",
          "output_type": "stream",
          "text": [
            "Some weights of T5ForSequenceClassification were not initialized from the model checkpoint at t5-base and are newly initialized: ['classification_head.dense.bias', 'classification_head.dense.weight', 'classification_head.out_proj.bias', 'classification_head.out_proj.weight']\n",
            "You should probably TRAIN this model on a down-stream task to be able to use it for predictions and inference.\n"
          ]
        }
      ],
      "source": [
        "from transformers import T5Tokenizer, T5ForSequenceClassification\n",
        "from torch.optim import AdamW #пришлось поменять откуда импортировать, потому что AdamW из transformers was deprecated\n",
        "\n",
        "model_checkpoint_t5 = \"t5-base\"\n",
        "tokenizer_t5 = T5Tokenizer.from_pretrained(model_checkpoint_t5)\n",
        "model_tf_t5 = T5ForSequenceClassification.from_pretrained(model_checkpoint_t5, num_labels=2).to(device)"
      ]
    },
    {
      "cell_type": "code",
      "execution_count": null,
      "metadata": {
        "id": "xq_0PQzY9rLS"
      },
      "outputs": [],
      "source": [
        "X_train_tf_t5, X_test_tf_t5, y_train_tf_t5, y_test_tf_t5 = train_test_split(df['Text'].tolist(),\n",
        "                                                                encoded_labels_for_tf,\n",
        "                                                                stratify=encoded_labels_for_tf,\n",
        "                                                                test_size=0.2)"
      ]
    },
    {
      "cell_type": "code",
      "execution_count": null,
      "metadata": {
        "id": "HOkGHScL91ht"
      },
      "outputs": [],
      "source": [
        "optimizer_tf_t5 = optim.AdamW(model_tf_t5.parameters(), lr=3e-4)"
      ]
    },
    {
      "cell_type": "code",
      "execution_count": null,
      "metadata": {
        "colab": {
          "base_uri": "https://localhost:8080/"
        },
        "id": "NDlpYAJo-OMX",
        "outputId": "4335c415-1ea1-43ef-b69c-62512b51a5a1"
      },
      "outputs": [
        {
          "name": "stderr",
          "output_type": "stream",
          "text": [
            "Asking to truncate to max_length but no maximum length is provided and the model has no predefined maximum length. Default to no truncation.\n"
          ]
        }
      ],
      "source": [
        "train_encodings_t5 = tokenizer_t5(X_train_tf_t5, truncation=True, padding=True)\n",
        "test_encodings_t5 = tokenizer_t5(X_test_tf_t5, truncation=True, padding=True)\n",
        "\n",
        "train_labels_t5 = torch.tensor(y_train_tf_t5, dtype=torch.long)\n",
        "test_labels_t5 = torch.tensor(y_test_tf_t5, dtype=torch.long)\n",
        "\n",
        "\n",
        "train_dataset_t5 = TensorDataset(torch.tensor(train_encodings_t5['input_ids']),\n",
        "                              torch.tensor(train_encodings_t5['attention_mask']),\n",
        "                              train_labels_t5)\n",
        "test_dataset_t5 = TensorDataset(torch.tensor(test_encodings_t5['input_ids']),\n",
        "                            torch.tensor(test_encodings_t5['attention_mask']),\n",
        "                            test_labels_t5)"
      ]
    },
    {
      "cell_type": "code",
      "execution_count": null,
      "metadata": {
        "id": "6HF453kO-fc9"
      },
      "outputs": [],
      "source": [
        "batch_size_t5 = 8\n",
        "\n",
        "train_loader_t5 = DataLoader(train_dataset_t5, batch_size=batch_size_t5, shuffle=True)\n",
        "test_loader_t5 = DataLoader(test_dataset_t5, batch_size=batch_size_t5, shuffle=False)"
      ]
    },
    {
      "cell_type": "markdown",
      "metadata": {
        "id": "0GWUy9bKHses"
      },
      "source": [
        "код ниже выполняется долго!!!"
      ]
    },
    {
      "cell_type": "code",
      "execution_count": null,
      "metadata": {
        "colab": {
          "background_save": true,
          "base_uri": "https://localhost:8080/"
        },
        "id": "aIdF9-bE-p9D",
        "outputId": "872a34fe-4d0a-4ec7-a65b-9850c9f61467"
      },
      "outputs": [
        {
          "name": "stdout",
          "output_type": "stream",
          "text": [
            "epoch 0, loss: 0.6464297019300007\n",
            "epoch 1, loss: 0.2429863621170322\n",
            "epoch 2, loss: 0.06038160379033625\n",
            "epoch 3, loss: 0.04082637984538451\n",
            "epoch 4, loss: 0.020158276092150203\n",
            "epoch 5, loss: 0.00571366374441866\n"
          ]
        }
      ],
      "source": [
        "epochs_t5 = 6 #cначала было 15, но потом стало понятно, что после 6 эпохи лосс остаётся +- одним и тем же\n",
        "losses_tf_t5 = []\n",
        "\n",
        "for epoch in range(epochs_t5):\n",
        "\n",
        "  model_tf_t5.train()\n",
        "\n",
        "  epoch_loss = 0\n",
        "\n",
        "  for batch in train_loader_t5:\n",
        "      # ВАШ КОД ЗДЕСЬ\n",
        "    optimizer_tf_t5.zero_grad()\n",
        "\n",
        "    res_tf_t5 = model_tf_t5(batch[0].to(device), attention_mask=batch[1].to(device), labels=batch[2].to(device)) #передаем входы на видеокарту\n",
        "      #print(res_tf)\n",
        "    epoch_loss += res_tf_t5.loss.item()\n",
        "\n",
        "      #backward pass & optimiser step\n",
        "    res_tf_t5.loss.backward()\n",
        "    optimizer_tf_t5.step()\n",
        "\n",
        "  losses_tf_t5.append(epoch_loss / len(train_loader_t5))\n",
        "\n",
        "  print(f\"epoch {epoch}, loss: {epoch_loss / len(train_loader_t5)}\")\n"
      ]
    },
    {
      "cell_type": "code",
      "execution_count": null,
      "metadata": {
        "colab": {
          "base_uri": "https://localhost:8080/",
          "height": 450
        },
        "id": "afonuN-h-8si",
        "outputId": "93e4d03a-3371-4c18-a349-b00817cc39f8"
      },
      "outputs": [
        {
          "data": {
            "text/plain": [
              "[<matplotlib.lines.Line2D at 0x7fbf088ca990>]"
            ]
          },
          "execution_count": 86,
          "metadata": {},
          "output_type": "execute_result"
        },
        {
          "data": {
            "image/png": "[encoded data removed]",
            "text/plain": [
              "<Figure size 640x480 with 1 Axes>"
            ]
          },
          "metadata": {},
          "output_type": "display_data"
        }
      ],
      "source": [
        "plt.plot(losses_tf_t5)"
      ]
    },
    {
      "cell_type": "code",
      "execution_count": null,
      "metadata": {
        "colab": {
          "base_uri": "https://localhost:8080/"
        },
        "id": "qARbMXyh_Ctr",
        "outputId": "6ac95cdd-0cfe-4755-9301-77e994599d78"
      },
      "outputs": [
        {
          "name": "stderr",
          "output_type": "stream",
          "text": [
            "Passing a tuple of `past_key_values` is deprecated and will be removed in Transformers v4.48.0. You should pass an instance of `EncoderDecoderCache` instead, e.g. `past_key_values=EncoderDecoderCache.from_legacy_cache(past_key_values)`.\n"
          ]
        }
      ],
      "source": [
        "predictions_t5 = []\n",
        "probabilities_t5 = []\n",
        "original_labels_t5 = []\n",
        "\n",
        "with torch.no_grad():\n",
        "\n",
        "  model_tf_t5.eval() #больше веса менять не надо\n",
        "\n",
        "  #for test_text, test_label in list(zip(X_test_tf, y_test_tf)):\n",
        "  for batch in test_loader_t5: #у нас же уже был test_loader, не поняла, зачем тут было делать zip\n",
        "    # ВАШ КОД ЗДЕСЬ\n",
        "    input_ids_t5 = batch[0].to(device)\n",
        "    attention_mask_t5 = batch[1].to(device)\n",
        "    labels_t5 = batch[2].to(device) #true labels\n",
        "\n",
        "    res_test_tf_t5 = model_tf_t5(input_ids_t5, attention_mask=attention_mask_t5)\n",
        "    pred_labels_logits_t5 = res_test_tf_t5.logits\n",
        "    probs_tf_t5 = torch.softmax(pred_labels_logits_t5, dim=1)\n",
        "    pred_labels_t5 = torch.argmax(pred_labels_logits_t5, dim=1)\n",
        "\n",
        "    #extend\n",
        "    probabilities_t5.extend(probs_tf_t5.cpu().numpy())\n",
        "    predictions_t5.extend(pred_labels_t5.cpu().numpy())\n",
        "    original_labels_t5.extend(labels_t5.cpu().numpy())"
      ]
    },
    {
      "cell_type": "code",
      "execution_count": null,
      "metadata": {
        "colab": {
          "base_uri": "https://localhost:8080/"
        },
        "id": "CNXml8TH_i15",
        "outputId": "b1f003f4-f067-4765-9b17-c7483e84ec60"
      },
      "outputs": [
        {
          "name": "stdout",
          "output_type": "stream",
          "text": [
            "              precision    recall  f1-score   support\n",
            "\n",
            "           0       0.82      0.95      0.88        19\n",
            "           1       0.95      0.83      0.88        23\n",
            "\n",
            "    accuracy                           0.88        42\n",
            "   macro avg       0.88      0.89      0.88        42\n",
            "weighted avg       0.89      0.88      0.88        42\n",
            "\n"
          ]
        }
      ],
      "source": [
        "print(classification_report(original_labels_t5, predictions_t5))"
      ]
    }
  ],
  "metadata": {
    "colab": {
      "provenance": []
    },
    "kernelspec": {
      "display_name": "Python 3",
      "name": "python3"
    },
    "language_info": {
      "name": "python"
    }
  },
  "nbformat": 4,
  "nbformat_minor": 0
}